{
 "cells": [
  {
   "cell_type": "markdown",
   "id": "dbcc4cb7-da6b-4acb-a07a-d30ac260f29d",
   "metadata": {},
   "source": [
    "# Jit Particle"
   ]
  },
  {
   "cell_type": "code",
   "execution_count": 1,
   "id": "abe2784e-c583-4b24-b57a-20a0f2905bf2",
   "metadata": {},
   "outputs": [],
   "source": [
    "import numpy as np\n",
    "from numba import njit\n",
    "import matplotlib.pyplot as plt"
   ]
  },
  {
   "cell_type": "code",
   "execution_count": 2,
   "id": "455a554b-2faf-4ef8-865c-f0276562f60f",
   "metadata": {},
   "outputs": [],
   "source": [
    "class Point():\n",
    "    \"\"\"    \n",
    "    Arguments:\n",
    "        domain: the domain of random generated coordinates x,y,z, \n",
    "                default=1.0\n",
    "    \n",
    "    Attributes:\n",
    "        x, y, z: coordinates of the point\n",
    "    \"\"\"\n",
    "    def __init__(self, domain=1.0):\n",
    "        self.x = domain * np.random.random()\n",
    "        self.y = domain * np.random.random()\n",
    "        self.z = domain * np.random.random()\n",
    "            \n",
    "    def distance(self, other):\n",
    "        return ((self.x - other.x)**2 + \n",
    "                (self.y - other.y)**2 + \n",
    "                (self.z - other.z)**2)**.5"
   ]
  },
  {
   "cell_type": "code",
   "execution_count": 3,
   "id": "71305aec-f2e9-4d2f-9c1e-3d2b4504328f",
   "metadata": {},
   "outputs": [],
   "source": [
    "class Particle(Point):\n",
    "    \"\"\"    \n",
    "    Attributes:\n",
    "        m: mass of the particle\n",
    "        phi: the potential of the particle\n",
    "    \"\"\"\n",
    "    \n",
    "    def __init__(self, domain=1.0, m=1.0):\n",
    "        Point.__init__(self, domain)\n",
    "        self.m = m\n",
    "        self.phi = 0."
   ]
  },
  {
   "cell_type": "code",
   "execution_count": 4,
   "id": "fe75acad-d3a7-4e87-9368-595dfb9c5ce1",
   "metadata": {},
   "outputs": [],
   "source": [
    "def direct_sum(particles):\n",
    "    \"\"\"\n",
    "    Calculate the potential at each particle\n",
    "    using direct summation method.\n",
    "\n",
    "    Arguments:\n",
    "        particles: the list of particles\n",
    "\n",
    "    \"\"\"\n",
    "    for i, target in enumerate(particles):\n",
    "        for source in (particles[:i] + particles[i+1:]):\n",
    "            r = target.distance(source)\n",
    "            target.phi += source.m / r"
   ]
  },
  {
   "cell_type": "code",
   "execution_count": 5,
   "id": "a7e195e6-8978-4770-b1cf-08d6fa2af806",
   "metadata": {},
   "outputs": [],
   "source": [
    "particle_dtype = np.dtype({'names':['x','y','z','m','phi'], \n",
    "                             'formats':[np.double, \n",
    "                                        np.double, \n",
    "                                        np.double, \n",
    "                                        np.double, \n",
    "                                        np.double]})"
   ]
  },
  {
   "cell_type": "markdown",
   "id": "7b83e04b-b37a-4650-9e5a-cbf92097a202",
   "metadata": {},
   "source": [
    "Write a function `create_n_random_particles` that takes the arguments `n` (number of particles), `m` (mass of every particle) and a domain within to generate a random number (as in the class above).\n",
    "It should create an array with `n` elements and `dtype=particle_dtype` and then return that array.\n",
    "\n",
    "For each particle, the mass should be initialized to the value of `m` and the potential `phi` initialized to zero.\n",
    "\n",
    "For the `x` component of a given particle `p`, you might do something like\n",
    "\n",
    "```python\n",
    "p['x'] = domain * numpy.random.random()\n",
    "```"
   ]
  },
  {
   "cell_type": "code",
   "execution_count": 6,
   "id": "c6b7595a-1f70-4517-a869-fe0423dd3065",
   "metadata": {},
   "outputs": [],
   "source": [
    "@njit\n",
    "def create_n_random_particles(n, m, domain=1):\n",
    "    '''\n",
    "    Creates `n` particles with mass `m` with random coordinates\n",
    "    between 0 and `domain`\n",
    "    '''\n",
    "    parts = np.zeros((n), dtype=particle_dtype)\n",
    "\n",
    "    for p in parts:\n",
    "        p['m'] = m\n",
    "        p['phi'] = 0.\n",
    "        p['x'] = domain * np.random.random()\n",
    "        p['y'] = domain * np.random.random()\n",
    "        p['z'] = domain * np.random.random()\n",
    "        \n",
    "    return parts   #parts is an array of particles"
   ]
  },
  {
   "cell_type": "code",
   "execution_count": 7,
   "id": "4a485270-689e-4c91-89e7-a94e7604cfe0",
   "metadata": {},
   "outputs": [],
   "source": [
    "parts = create_n_random_particles(1000, .001, 1)"
   ]
  },
  {
   "cell_type": "markdown",
   "id": "1fd771dc-50f8-4313-a080-c0e40ef5a1fd",
   "metadata": {},
   "source": [
    "Write a JITted function `distance` to calculate the distance between two particles of dtype `particle_dtype`\n",
    "\n",
    "Here's the `distance` method from the `Particle` class as a reference:\n",
    "\n",
    "```python\n",
    "def distance(self, other):\n",
    "        return ((self.x - other.x)**2 + \n",
    "                (self.y - other.y)**2 + \n",
    "                (self.z - other.z)**2)**.5\n",
    "```"
   ]
  },
  {
   "cell_type": "code",
   "execution_count": 8,
   "id": "36d6e1b4-9639-47dd-bdb5-e1795bbc0e8e",
   "metadata": {},
   "outputs": [],
   "source": [
    "@njit\n",
    "def distance(part1, part2):\n",
    "    '''calculate the distance between two particles'''\n",
    "    return ((part1['x'] - part2['x'])**2 + \n",
    "            (part1['y'] - part2['y'])**2 + \n",
    "            (part1['z'] - part2['z'])**2)**.5"
   ]
  },
  {
   "cell_type": "code",
   "execution_count": 9,
   "id": "8ca025bc-4e6f-458e-b610-7856b023e170",
   "metadata": {},
   "outputs": [
    {
     "data": {
      "text/plain": [
       "0.8196579574966638"
      ]
     },
     "execution_count": 9,
     "metadata": {},
     "output_type": "execute_result"
    }
   ],
   "source": [
    "distance(parts[0], parts[1])"
   ]
  },
  {
   "cell_type": "markdown",
   "id": "16621338-1c8e-46c9-8137-a48cf4919c27",
   "metadata": {},
   "source": [
    "Modify the original `direct_sum` function (copied below for reference) to instead work a NumPy array of particles.  Loop over each element in the array and calculate its total potential."
   ]
  },
  {
   "cell_type": "code",
   "execution_count": 10,
   "id": "878d7ee4-87a7-4c0a-ae96-bf5b02122404",
   "metadata": {},
   "outputs": [],
   "source": [
    "@njit\n",
    "def direct_sum_np(particles):\n",
    "    indexes = np.arange(len(particles))\n",
    "    for i, target in enumerate(particles):\n",
    "        for source in particles[indexes != i]:\n",
    "            r = distance(target, source)\n",
    "            target['phi'] += source['m'] / r"
   ]
  },
  {
   "cell_type": "code",
   "execution_count": 11,
   "id": "9e3e9b32-cbb7-40fe-ba6e-add12195b3d7",
   "metadata": {},
   "outputs": [],
   "source": [
    "direct_sum_np(parts)"
   ]
  },
  {
   "cell_type": "markdown",
   "id": "76d1709a-f7dc-4bcc-9220-bfee6c838311",
   "metadata": {},
   "source": [
    "## Graph"
   ]
  },
  {
   "cell_type": "code",
   "execution_count": 12,
   "id": "ff9fde4e-a936-44be-b84a-5ab92af05d04",
   "metadata": {},
   "outputs": [],
   "source": [
    "array_of_sizes = np.arange(100, 2001, 100)"
   ]
  },
  {
   "cell_type": "code",
   "execution_count": 13,
   "id": "8a2155d0-425c-4837-9b19-e43b584f72e1",
   "metadata": {},
   "outputs": [
    {
     "name": "stdout",
     "output_type": "stream",
     "text": [
      "20/20"
     ]
    }
   ],
   "source": [
    "time_arr = np.zeros(array_of_sizes.size)\n",
    "time_arr_np = np.zeros(array_of_sizes.size)\n",
    "for i, size in enumerate(array_of_sizes):\n",
    "    print(f'\\r{i+1}/{array_of_sizes.size}', end='')\n",
    "    parts = [Particle(m=1) for _ in range(size)]\n",
    "    parts_np = create_n_random_particles(size, .001, 1)\n",
    "    \n",
    "    time = %timeit -o -q -r 3 -n 5 direct_sum(parts)\n",
    "    time_arr[i] = time.best\n",
    "    \n",
    "    time = %timeit -o -q -r 3 -n 5 direct_sum_np(parts_np)\n",
    "    time_arr_np[i] = time.best"
   ]
  },
  {
   "cell_type": "code",
   "execution_count": 14,
   "id": "833d91c5-ca2b-4c3c-a120-16aa77d647b0",
   "metadata": {},
   "outputs": [
    {
     "data": {
      "text/plain": [
       "Text(0, 0.5, 'Computation time')"
      ]
     },
     "execution_count": 14,
     "metadata": {},
     "output_type": "execute_result"
    },
    {
     "data": {
      "image/png": "[encoded data removed]",
      "text/plain": [
       "<Figure size 1008x576 with 1 Axes>"
      ]
     },
     "metadata": {
      "needs_background": "light"
     },
     "output_type": "display_data"
    }
   ],
   "source": [
    "plt.figure(figsize=(14, 8))\n",
    "plt.plot(array_of_sizes, time_arr, label='Python')\n",
    "plt.plot(array_of_sizes, time_arr_np, label='Numpy')\n",
    "plt.legend()\n",
    "plt.xlabel('Array size')\n",
    "plt.ylabel('Computation time')"
   ]
  },
  {
   "cell_type": "code",
   "execution_count": 15,
   "id": "6049e70b-1193-46e2-b31a-ccdb64f02834",
   "metadata": {},
   "outputs": [
    {
     "data": {
      "text/plain": [
       "Text(0, 0.5, 'Computation time')"
      ]
     },
     "execution_count": 15,
     "metadata": {},
     "output_type": "execute_result"
    },
    {
     "data": {
      "image/png": "[encoded data removed]",
      "text/plain": [
       "<Figure size 1008x576 with 1 Axes>"
      ]
     },
     "metadata": {
      "needs_background": "light"
     },
     "output_type": "display_data"
    }
   ],
   "source": [
    "plt.figure(figsize=(14, 8))\n",
    "plt.plot(array_of_sizes, time_arr_np, label='Numpy')\n",
    "plt.legend()\n",
    "plt.xlabel('Array size')\n",
    "plt.ylabel('Computation time')"
   ]
  }
 ],
 "metadata": {
  "kernelspec": {
   "display_name": "Python 3 (ipykernel)",
   "language": "python",
   "name": "python3"
  },
  "language_info": {
   "codemirror_mode": {
    "name": "ipython",
    "version": 3
   },
   "file_extension": ".py",
   "mimetype": "text/x-python",
   "name": "python",
   "nbconvert_exporter": "python",
   "pygments_lexer": "ipython3",
   "version": "3.9.5"
  }
 },
 "nbformat": 4,
 "nbformat_minor": 5
}
